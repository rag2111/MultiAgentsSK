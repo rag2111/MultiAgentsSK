{
 "cells": [
  {
   "cell_type": "code",
   "execution_count": null,
   "metadata": {
    "dotnet_interactive": {
     "language": "csharp"
    },
    "polyglot_notebook": {
     "kernelName": "csharp"
    }
   },
   "outputs": [],
   "source": [
    "#r \"nuget: Microsoft.SemanticKernel.Agents.Abstractions, 1.14.1-alpha\"\n",
    "#r \"nuget: Microsoft.SemanticKernel.Agents.Core, 1.14.1-alpha\"\n",
    "#r \"nuget: Microsoft.SemanticKernel.Agents.OpenAI, 1.14.1-alpha\"\n",
    "#r \"nuget: Microsoft.SemanticKernel.Connectors.OpenAI, 1.14.1-alpha\"\n",
    "#r \"nuget: Newtonsoft.Json, 13.0.1\" \n"
   ]
  },
  {
   "cell_type": "code",
   "execution_count": null,
   "metadata": {
    "dotnet_interactive": {
     "language": "csharp"
    },
    "polyglot_notebook": {
     "kernelName": "csharp"
    }
   },
   "outputs": [],
   "source": [
    "using System.ComponentModel;\n",
    "using Microsoft.SemanticKernel;\n",
    "using Microsoft.SemanticKernel.Agents;\n",
    "using Microsoft.SemanticKernel.Agents.OpenAI;\n",
    "using Microsoft.SemanticKernel.ChatCompletion;\n",
    "using Microsoft.SemanticKernel.Connectors.OpenAI;\n",
    "using Microsoft.SemanticKernel.Agents.Chat;\n",
    "using System.IO;\n",
    "using Newtonsoft.Json.Linq;\n"
   ]
  },
  {
   "cell_type": "code",
   "execution_count": null,
   "metadata": {
    "dotnet_interactive": {
     "language": "csharp"
    },
    "polyglot_notebook": {
     "kernelName": "csharp"
    }
   },
   "outputs": [],
   "source": [
    "var config = JObject.Parse(File.ReadAllText(\"config.json\"));\n",
    "var AOAI_apikey = config[\"AOAI_apikey\"].ToString();\n",
    "var AOAI_endpoint = config[\"AOAI_endpoint\"].ToString();\n",
    "var AOAI_deploymentname = config[\"AOAI_deploymentname\"].ToString();\n"
   ]
  },
  {
   "cell_type": "code",
   "execution_count": null,
   "metadata": {
    "dotnet_interactive": {
     "language": "csharp"
    },
    "polyglot_notebook": {
     "kernelName": "csharp"
    }
   },
   "outputs": [],
   "source": [
    "Kernel kernel = Kernel.CreateBuilder()\n",
    "        .AddAzureOpenAIChatCompletion(\n",
    "                deploymentName: AOAI_deploymentname,\n",
    "                apiKey: AOAI_apikey,\n",
    "                endpoint: AOAI_endpoint)\n",
    "            .Build();\n"
   ]
  },
  {
   "cell_type": "code",
   "execution_count": null,
   "metadata": {
    "dotnet_interactive": {
     "language": "csharp"
    },
    "polyglot_notebook": {
     "kernelName": "csharp"
    }
   },
   "outputs": [],
   "source": [
    "// Lets given the Persona to Agents\n",
    "\n",
    "string ProgramManager = \"\"\"\n",
    "    You are a program manager which will take the requirement and create a plan for creating app. Program Manager understands the \n",
    "    user requirements and form the detail documents with requirements and costing.\n",
    "\"\"\";\n",
    "\n",
    "string SoftwareEngineer = \"\"\"\n",
    "   You are Software Engieer, and your goal is create web app using HTML and JavaScript by taking into consideration all\n",
    "   the requirements given by Program Manager. \n",
    "\"\"\";\n",
    "\n",
    "string ProjectManager = \"\"\"\n",
    "    You are manager which will review software engineer code, and make sure all client requirements are completed. \n",
    "    You are the guardian of quality, ensuring the final product meets all specifications and receives the green light for release.\n",
    "    Ask to the Brand Analyst to ensure that the Bankinter brand guidelines are followed.\n",
    "     Once all client requirements are completed, you can approve the request by just responding \"approve\"\n",
    "\"\"\";"
   ]
  },
  {
   "cell_type": "code",
   "execution_count": null,
   "metadata": {
    "dotnet_interactive": {
     "language": "csharp"
    },
    "polyglot_notebook": {
     "kernelName": "csharp"
    }
   },
   "outputs": [],
   "source": [
    "#pragma warning disable SKEXP0110, SKEXP0001 // Rethrow to preserve stack details\n",
    "\n",
    "ChatCompletionAgent ProgramManagerAgent =\n",
    "            new()\n",
    "            {\n",
    "                Instructions = ProgramManager,\n",
    "                Name = \"ProgramManagerAgent\",\n",
    "                Kernel = kernel\n",
    "            };\n",
    "\n",
    "ChatCompletionAgent SoftwareEngineerAgent =\n",
    "            new()\n",
    "            {\n",
    "                Instructions = SoftwareEngineer,\n",
    "                Name = \"SoftwareEngineerAgent\",\n",
    "                Kernel = kernel\n",
    "            };\n",
    "\n",
    "ChatCompletionAgent ProjectManagerAgent =\n",
    "            new()\n",
    "            {\n",
    "                Instructions = ProjectManager,\n",
    "                Name = \"ProjectManagerAgent\",\n",
    "                Kernel = kernel\n",
    "            };\n",
    "\n",
    "\n",
    "\n"
   ]
  },
  {
   "cell_type": "code",
   "execution_count": null,
   "metadata": {},
   "outputs": [],
   "source": [
    "string BrandAnalyst = \"\"\"\n",
    "    You are a Brand Analyst for Bankinter. Your goal is to ensure that all software developed adheres to the Bankinter brand guidelines, \n",
    "    specifically using the Bankinter company colors. The primary color is orange (#FF4F00), and the secondary color is white (#FFFFFF). \n",
    "    Ensure that these colors are consistently applied throughout any app.\n",
    "\"\"\";\n",
    "\n",
    "#pragma warning disable SKEXP0110, SKEXP0001 // Rethrow to preserve stack details\n",
    "ChatCompletionAgent BrandAnalystAgent =\n",
    "            new()\n",
    "            {\n",
    "                Instructions = BrandAnalyst,\n",
    "                Name = \"BrandAnalystAgent\",\n",
    "                Kernel = kernel\n",
    "            };"
   ]
  },
  {
   "cell_type": "code",
   "execution_count": null,
   "metadata": {
    "dotnet_interactive": {
     "language": "csharp"
    },
    "polyglot_notebook": {
     "kernelName": "csharp"
    }
   },
   "outputs": [],
   "source": [
    "    #pragma warning disable SKEXP0110, SKEXP0001 // Rethrow to preserve stack details\n",
    "    \n",
    "    using System.Threading;\n",
    "    \n",
    "    private sealed class ApprovalTerminationStrategy : TerminationStrategy\n",
    "    {\n",
    "        // Terminate when the final message contains the term \"approve\"\n",
    "        protected override Task<bool> ShouldAgentTerminateAsync(Agent agent, IReadOnlyList<ChatMessageContent> history, CancellationToken cancellationToken)\n",
    "            => Task.FromResult(history[history.Count - 1].Content?.Contains(\"approve\", StringComparison.OrdinalIgnoreCase) ?? false);\n",
    "    }"
   ]
  },
  {
   "cell_type": "code",
   "execution_count": null,
   "metadata": {
    "dotnet_interactive": {
     "language": "csharp"
    },
    "polyglot_notebook": {
     "kernelName": "csharp"
    }
   },
   "outputs": [],
   "source": [
    "#pragma warning disable SKEXP0110, SKEXP0001 \n",
    "\n",
    "        AgentGroupChat chat =\n",
    "            new(ProgramManagerAgent, SoftwareEngineerAgent, ProjectManagerAgent, BrandAnalystAgent)\n",
    "            {\n",
    "                ExecutionSettings =\n",
    "                    new()\n",
    "                    {\n",
    "                        TerminationStrategy =\n",
    "                            new ApprovalTerminationStrategy()\n",
    "                            {\n",
    "                                Agents = [ProjectManagerAgent],\n",
    "                                MaximumIterations = 10,\n",
    "                            }\n",
    "                    }\n",
    "            };\n"
   ]
  },
  {
   "cell_type": "code",
   "execution_count": null,
   "metadata": {
    "dotnet_interactive": {
     "language": "csharp"
    },
    "polyglot_notebook": {
     "kernelName": "csharp"
    }
   },
   "outputs": [],
   "source": [
    "        #pragma warning disable SKEXP0110, SKEXP0001 \n",
    "        // Invoke chat and display messages.\n",
    "        string input = \"\"\"\n",
    "        \n",
    "        I want to develop app which will provide me calculator. Keep it very simple. And get final approval from manager.\n",
    "        \"\"\";\n",
    "\n",
    "        chat.AddChatMessage(new ChatMessageContent(AuthorRole.User, input));\n",
    "        Console.WriteLine($\"# {AuthorRole.User}: '{input}'\");\n",
    "\n",
    "        await foreach (var content in chat.InvokeAsync())\n",
    "        {\n",
    "            Console.WriteLine($\"# {content.Role} - {content.AuthorName ?? \"*\"}: '{content.Content}'\");\n",
    "        }"
   ]
  },
  {
   "cell_type": "code",
   "execution_count": null,
   "metadata": {
    "dotnet_interactive": {
     "language": "csharp"
    },
    "polyglot_notebook": {
     "kernelName": "csharp"
    }
   },
   "outputs": [],
   "source": []
  }
 ],
 "metadata": {
  "kernelspec": {
   "display_name": ".NET (C#)",
   "language": "C#",
   "name": ".net-csharp"
  },
  "language_info": {
   "name": "polyglot-notebook"
  },
  "polyglot_notebook": {
   "kernelInfo": {
    "defaultKernelName": "csharp",
    "items": [
     {
      "aliases": [],
      "name": "csharp"
     }
    ]
   }
  }
 },
 "nbformat": 4,
 "nbformat_minor": 2
}
